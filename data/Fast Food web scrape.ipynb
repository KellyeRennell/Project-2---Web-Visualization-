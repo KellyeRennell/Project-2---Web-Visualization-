{
 "cells": [
  {
   "cell_type": "code",
   "execution_count": 23,
   "metadata": {},
   "outputs": [],
   "source": [
    "import pandas as pd"
   ]
  },
  {
   "cell_type": "code",
   "execution_count": 28,
   "metadata": {},
   "outputs": [],
   "source": [
    "url = \"https://www.qsrmagazine.com/content/qsr50-2017-top-50-chart\"\n",
    "tables = pd.read_html(url, header = 0)"
   ]
  },
  {
   "cell_type": "code",
   "execution_count": 29,
   "metadata": {},
   "outputs": [],
   "source": [
    "df = tables[0]"
   ]
  },
  {
   "cell_type": "code",
   "execution_count": 30,
   "metadata": {},
   "outputs": [
    {
     "data": {
      "text/html": [
       "<div>\n",
       "<style scoped>\n",
       "    .dataframe tbody tr th:only-of-type {\n",
       "        vertical-align: middle;\n",
       "    }\n",
       "\n",
       "    .dataframe tbody tr th {\n",
       "        vertical-align: top;\n",
       "    }\n",
       "\n",
       "    .dataframe thead th {\n",
       "        text-align: right;\n",
       "    }\n",
       "</style>\n",
       "<table border=\"1\" class=\"dataframe\">\n",
       "  <thead>\n",
       "    <tr style=\"text-align: right;\">\n",
       "      <th></th>\n",
       "      <th>QSR 50 Rank</th>\n",
       "      <th>Company</th>\n",
       "      <th>Change in Position</th>\n",
       "      <th>Category</th>\n",
       "      <th>2016 U.S. Systemwide Sales (millions)</th>\n",
       "      <th>2016 U.S. Average Sales Per Unit (thousands)</th>\n",
       "      <th>Number of Franchised Units in 2016</th>\n",
       "      <th>Number of Company Units in 2016</th>\n",
       "      <th>Total Units in 2016</th>\n",
       "      <th>Total Change in Units from 2015</th>\n",
       "    </tr>\n",
       "  </thead>\n",
       "  <tbody>\n",
       "    <tr>\n",
       "      <th>0</th>\n",
       "      <td>1</td>\n",
       "      <td>McDonald's*</td>\n",
       "      <td>-</td>\n",
       "      <td>Burger</td>\n",
       "      <td>36389.00</td>\n",
       "      <td>2550.00</td>\n",
       "      <td>13046</td>\n",
       "      <td>1109</td>\n",
       "      <td>14155</td>\n",
       "      <td>-104</td>\n",
       "    </tr>\n",
       "    <tr>\n",
       "      <th>1</th>\n",
       "      <td>2</td>\n",
       "      <td>Starbucks*1</td>\n",
       "      <td>-</td>\n",
       "      <td>Snack</td>\n",
       "      <td>14795.40</td>\n",
       "      <td>1123.25</td>\n",
       "      <td>5292</td>\n",
       "      <td>7880</td>\n",
       "      <td>13172</td>\n",
       "      <td>651</td>\n",
       "    </tr>\n",
       "    <tr>\n",
       "      <th>2</th>\n",
       "      <td>3</td>\n",
       "      <td>Subway</td>\n",
       "      <td>-</td>\n",
       "      <td>Sandwich</td>\n",
       "      <td>11300.00</td>\n",
       "      <td>422.52</td>\n",
       "      <td>26744</td>\n",
       "      <td>0</td>\n",
       "      <td>26744</td>\n",
       "      <td>-359</td>\n",
       "    </tr>\n",
       "    <tr>\n",
       "      <th>3</th>\n",
       "      <td>4</td>\n",
       "      <td>Wendy's</td>\n",
       "      <td>2</td>\n",
       "      <td>Burger</td>\n",
       "      <td>9510.00</td>\n",
       "      <td>1454.80</td>\n",
       "      <td>6207</td>\n",
       "      <td>330</td>\n",
       "      <td>6537</td>\n",
       "      <td>58</td>\n",
       "    </tr>\n",
       "    <tr>\n",
       "      <th>4</th>\n",
       "      <td>5</td>\n",
       "      <td>Burger King*</td>\n",
       "      <td>-1</td>\n",
       "      <td>Burger</td>\n",
       "      <td>9749.19</td>\n",
       "      <td>1361.43</td>\n",
       "      <td>7111</td>\n",
       "      <td>50</td>\n",
       "      <td>7161</td>\n",
       "      <td>35</td>\n",
       "    </tr>\n",
       "  </tbody>\n",
       "</table>\n",
       "</div>"
      ],
      "text/plain": [
       "   QSR 50 Rank       Company Change in Position  Category  \\\n",
       "0            1   McDonald's*                  -    Burger   \n",
       "1            2   Starbucks*1                  -     Snack   \n",
       "2            3        Subway                  -  Sandwich   \n",
       "3            4       Wendy's                  2    Burger   \n",
       "4            5  Burger King*                 -1    Burger   \n",
       "\n",
       "   2016 U.S. Systemwide Sales (millions)  \\\n",
       "0                               36389.00   \n",
       "1                               14795.40   \n",
       "2                               11300.00   \n",
       "3                                9510.00   \n",
       "4                                9749.19   \n",
       "\n",
       "   2016 U.S. Average Sales Per Unit (thousands)  \\\n",
       "0                                       2550.00   \n",
       "1                                       1123.25   \n",
       "2                                        422.52   \n",
       "3                                       1454.80   \n",
       "4                                       1361.43   \n",
       "\n",
       "   Number of Franchised Units in 2016  Number of Company Units in 2016  \\\n",
       "0                               13046                             1109   \n",
       "1                                5292                             7880   \n",
       "2                               26744                                0   \n",
       "3                                6207                              330   \n",
       "4                                7111                               50   \n",
       "\n",
       "   Total Units in 2016  Total Change in Units from 2015  \n",
       "0                14155                             -104  \n",
       "1                13172                              651  \n",
       "2                26744                             -359  \n",
       "3                 6537                               58  \n",
       "4                 7161                               35  "
      ]
     },
     "execution_count": 30,
     "metadata": {},
     "output_type": "execute_result"
    }
   ],
   "source": [
    "df.head()"
   ]
  },
  {
   "cell_type": "code",
   "execution_count": 31,
   "metadata": {},
   "outputs": [
    {
     "ename": "AttributeError",
     "evalue": "'DataFrame' object has no attribute 'to_csvI'",
     "output_type": "error",
     "traceback": [
      "\u001b[0;31m---------------------------------------------------------------------------\u001b[0m",
      "\u001b[0;31mAttributeError\u001b[0m                            Traceback (most recent call last)",
      "\u001b[0;32m<ipython-input-31-9f3ac78e092b>\u001b[0m in \u001b[0;36m<module>\u001b[0;34m\u001b[0m\n\u001b[0;32m----> 1\u001b[0;31m \u001b[0mdf\u001b[0m\u001b[0;34m.\u001b[0m\u001b[0mto_csvI\u001b[0m\u001b[0;34m(\u001b[0m\u001b[0;34m)\u001b[0m\u001b[0;34m\u001b[0m\u001b[0;34m\u001b[0m\u001b[0m\n\u001b[0m",
      "\u001b[0;32m/Applications/anaconda3/envs/PythonData/lib/python3.6/site-packages/pandas/core/generic.py\u001b[0m in \u001b[0;36m__getattr__\u001b[0;34m(self, name)\u001b[0m\n\u001b[1;32m   4374\u001b[0m             \u001b[0;32mif\u001b[0m \u001b[0mself\u001b[0m\u001b[0;34m.\u001b[0m\u001b[0m_info_axis\u001b[0m\u001b[0;34m.\u001b[0m\u001b[0m_can_hold_identifiers_and_holds_name\u001b[0m\u001b[0;34m(\u001b[0m\u001b[0mname\u001b[0m\u001b[0;34m)\u001b[0m\u001b[0;34m:\u001b[0m\u001b[0;34m\u001b[0m\u001b[0;34m\u001b[0m\u001b[0m\n\u001b[1;32m   4375\u001b[0m                 \u001b[0;32mreturn\u001b[0m \u001b[0mself\u001b[0m\u001b[0;34m[\u001b[0m\u001b[0mname\u001b[0m\u001b[0;34m]\u001b[0m\u001b[0;34m\u001b[0m\u001b[0;34m\u001b[0m\u001b[0m\n\u001b[0;32m-> 4376\u001b[0;31m             \u001b[0;32mreturn\u001b[0m \u001b[0mobject\u001b[0m\u001b[0;34m.\u001b[0m\u001b[0m__getattribute__\u001b[0m\u001b[0;34m(\u001b[0m\u001b[0mself\u001b[0m\u001b[0;34m,\u001b[0m \u001b[0mname\u001b[0m\u001b[0;34m)\u001b[0m\u001b[0;34m\u001b[0m\u001b[0;34m\u001b[0m\u001b[0m\n\u001b[0m\u001b[1;32m   4377\u001b[0m \u001b[0;34m\u001b[0m\u001b[0m\n\u001b[1;32m   4378\u001b[0m     \u001b[0;32mdef\u001b[0m \u001b[0m__setattr__\u001b[0m\u001b[0;34m(\u001b[0m\u001b[0mself\u001b[0m\u001b[0;34m,\u001b[0m \u001b[0mname\u001b[0m\u001b[0;34m,\u001b[0m \u001b[0mvalue\u001b[0m\u001b[0;34m)\u001b[0m\u001b[0;34m:\u001b[0m\u001b[0;34m\u001b[0m\u001b[0;34m\u001b[0m\u001b[0m\n",
      "\u001b[0;31mAttributeError\u001b[0m: 'DataFrame' object has no attribute 'to_csvI'"
     ]
    }
   ],
   "source": [
    "df.to_csv(\"\")"
   ]
  },
  {
   "cell_type": "code",
   "execution_count": null,
   "metadata": {},
   "outputs": [],
   "source": []
  }
 ],
 "metadata": {
  "kernelspec": {
   "display_name": "Python 3",
   "language": "python",
   "name": "python3"
  },
  "language_info": {
   "codemirror_mode": {
    "name": "ipython",
    "version": 3
   },
   "file_extension": ".py",
   "mimetype": "text/x-python",
   "name": "python",
   "nbconvert_exporter": "python",
   "pygments_lexer": "ipython3",
   "version": "3.6.8"
  }
 },
 "nbformat": 4,
 "nbformat_minor": 2
}
