{
 "cells": [
  {
   "cell_type": "code",
   "execution_count": 1,
   "metadata": {},
   "outputs": [],
   "source": [
    "import pandas as pd"
   ]
  },
  {
   "cell_type": "code",
   "execution_count": 3,
   "metadata": {},
   "outputs": [
    {
     "data": {
      "text/html": [
       "<div>\n",
       "<style scoped>\n",
       "    .dataframe tbody tr th:only-of-type {\n",
       "        vertical-align: middle;\n",
       "    }\n",
       "\n",
       "    .dataframe tbody tr th {\n",
       "        vertical-align: top;\n",
       "    }\n",
       "\n",
       "    .dataframe thead th {\n",
       "        text-align: right;\n",
       "    }\n",
       "</style>\n",
       "<table border=\"1\" class=\"dataframe\">\n",
       "  <thead>\n",
       "    <tr style=\"text-align: right;\">\n",
       "      <th></th>\n",
       "      <th>name</th>\n",
       "      <th>categories</th>\n",
       "      <th>city</th>\n",
       "      <th>state</th>\n",
       "      <th>postalCode</th>\n",
       "      <th>latitude</th>\n",
       "      <th>longitude</th>\n",
       "    </tr>\n",
       "  </thead>\n",
       "  <tbody>\n",
       "    <tr>\n",
       "      <th>0</th>\n",
       "      <td>90 Miles Cuban Cafe</td>\n",
       "      <td>Ethnic</td>\n",
       "      <td>Chicago</td>\n",
       "      <td>IL</td>\n",
       "      <td>60618</td>\n",
       "      <td>41.937897</td>\n",
       "      <td>-87.685781</td>\n",
       "    </tr>\n",
       "    <tr>\n",
       "      <th>1</th>\n",
       "      <td>A's Ace Burgers</td>\n",
       "      <td>Burger</td>\n",
       "      <td>Dana Point</td>\n",
       "      <td>CA</td>\n",
       "      <td>92629</td>\n",
       "      <td>33.464500</td>\n",
       "      <td>-117.684500</td>\n",
       "    </tr>\n",
       "    <tr>\n",
       "      <th>2</th>\n",
       "      <td>A&amp;W/Long John Silvers</td>\n",
       "      <td>Seafood</td>\n",
       "      <td>Belle Vernon</td>\n",
       "      <td>PA</td>\n",
       "      <td>15012</td>\n",
       "      <td>40.136482</td>\n",
       "      <td>-79.842820</td>\n",
       "    </tr>\n",
       "  </tbody>\n",
       "</table>\n",
       "</div>"
      ],
      "text/plain": [
       "                    name categories          city state postalCode   latitude  \\\n",
       "0    90 Miles Cuban Cafe     Ethnic       Chicago    IL      60618  41.937897   \n",
       "1        A's Ace Burgers     Burger    Dana Point    CA      92629  33.464500   \n",
       "2  A&W/Long John Silvers    Seafood  Belle Vernon    PA      15012  40.136482   \n",
       "\n",
       "    longitude  \n",
       "0  -87.685781  \n",
       "1 -117.684500  \n",
       "2  -79.842820  "
      ]
     },
     "execution_count": 3,
     "metadata": {},
     "output_type": "execute_result"
    }
   ],
   "source": [
    "df = pd.read_csv(\"assets/data/Cleaned_Categories.csv\")\n",
    "df.head(3)"
   ]
  },
  {
   "cell_type": "code",
   "execution_count": 29,
   "metadata": {},
   "outputs": [
    {
     "data": {
      "text/plain": [
       "(-1.1145258969613883,\n",
       " 1.1006917129393532,\n",
       " -1.1014703557536354,\n",
       " 1.1110041936945576)"
      ]
     },
     "execution_count": 29,
     "metadata": {},
     "output_type": "execute_result"
    },
    {
     "data": {
      "image/png": "[encoded data removed]",
      "text/plain": [
       "<Figure size 432x288 with 1 Axes>"
      ]
     },
     "metadata": {},
     "output_type": "display_data"
    }
   ],
   "source": [
    "# Burgers are America's best seller\n",
    "df.groupby(\"categories\").size().nlargest(6).plot(kind = \"pie\", autopct=\"%1.1f%%\").axis(\"equal\")"
   ]
  },
  {
   "cell_type": "code",
   "execution_count": 7,
   "metadata": {},
   "outputs": [],
   "source": [
    "# Extraneous columns in Cleaned_Categories.csv\n",
    "cols = [\"American Restaurant and Fast Food Restaurant\",\n",
    "                           \"American Restaurant, Fast Food Restaurant, and Sandwich Place Central Omaha\",\n",
    "                           \"BBQ Joint and Fast Food Restaurant\", \"Burger Joint and Fast Food Restaurant\",\n",
    "                           \"Fast Food\", \"Fast Food Restaurant\", \"Fast Food Restaurant Cherry Hill\",\n",
    "                           \"Fast Food Restaurant, American Restaurant, and Seafood Restaurant\", \n",
    "                           \"Fast Food Restaurant, Hot Dog Joint, and American Restaurant\",\n",
    "                           \"Fast Food Restaurants\", \"Fast Food Restaurant Crown Heights\", \n",
    "                           \"Fast Food Restaurant and American Restaurant\", \n",
    "                            \"Fast Food Restaurant and American Restaurant North Park\",\n",
    "                           \"Fast Food Restaurant and Burger Joint\",\n",
    "                            \"Fast Food Restaurant and Food\", \n",
    "                            \"Fast Food Restaurant, American Restaurant, and Burger Joint\",\n",
    "                           \"Mexican Restaurant and Fast Food Restaurant\",\n",
    "                           \"Sandwich Place and Fast Food Restaurant Allegheny West\",\n",
    "                           \"Fast food restaurants\"]"
   ]
  },
  {
   "cell_type": "code",
   "execution_count": 8,
   "metadata": {},
   "outputs": [
    {
     "data": {
      "text/html": [
       "<div>\n",
       "<style scoped>\n",
       "    .dataframe tbody tr th:only-of-type {\n",
       "        vertical-align: middle;\n",
       "    }\n",
       "\n",
       "    .dataframe tbody tr th {\n",
       "        vertical-align: top;\n",
       "    }\n",
       "\n",
       "    .dataframe thead th {\n",
       "        text-align: right;\n",
       "    }\n",
       "</style>\n",
       "<table border=\"1\" class=\"dataframe\">\n",
       "  <thead>\n",
       "    <tr style=\"text-align: right;\">\n",
       "      <th>categories</th>\n",
       "      <th>Burger</th>\n",
       "      <th>Chicken</th>\n",
       "      <th>Ethnic</th>\n",
       "      <th>Pizza</th>\n",
       "      <th>Sandwich</th>\n",
       "      <th>Seafood</th>\n",
       "      <th>Snack</th>\n",
       "      <th>All</th>\n",
       "    </tr>\n",
       "    <tr>\n",
       "      <th>state</th>\n",
       "      <th></th>\n",
       "      <th></th>\n",
       "      <th></th>\n",
       "      <th></th>\n",
       "      <th></th>\n",
       "      <th></th>\n",
       "      <th></th>\n",
       "      <th></th>\n",
       "    </tr>\n",
       "  </thead>\n",
       "  <tbody>\n",
       "    <tr>\n",
       "      <th>AK</th>\n",
       "      <td>3</td>\n",
       "      <td>0</td>\n",
       "      <td>4</td>\n",
       "      <td>1</td>\n",
       "      <td>6</td>\n",
       "      <td>0</td>\n",
       "      <td>1</td>\n",
       "      <td>16</td>\n",
       "    </tr>\n",
       "    <tr>\n",
       "      <th>AL</th>\n",
       "      <td>2</td>\n",
       "      <td>1</td>\n",
       "      <td>3</td>\n",
       "      <td>0</td>\n",
       "      <td>0</td>\n",
       "      <td>0</td>\n",
       "      <td>0</td>\n",
       "      <td>6</td>\n",
       "    </tr>\n",
       "    <tr>\n",
       "      <th>AR</th>\n",
       "      <td>47</td>\n",
       "      <td>7</td>\n",
       "      <td>18</td>\n",
       "      <td>6</td>\n",
       "      <td>18</td>\n",
       "      <td>2</td>\n",
       "      <td>3</td>\n",
       "      <td>102</td>\n",
       "    </tr>\n",
       "    <tr>\n",
       "      <th>AZ</th>\n",
       "      <td>148</td>\n",
       "      <td>15</td>\n",
       "      <td>73</td>\n",
       "      <td>31</td>\n",
       "      <td>48</td>\n",
       "      <td>2</td>\n",
       "      <td>12</td>\n",
       "      <td>329</td>\n",
       "    </tr>\n",
       "    <tr>\n",
       "      <th>CA</th>\n",
       "      <td>615</td>\n",
       "      <td>70</td>\n",
       "      <td>213</td>\n",
       "      <td>78</td>\n",
       "      <td>112</td>\n",
       "      <td>2</td>\n",
       "      <td>67</td>\n",
       "      <td>1196</td>\n",
       "    </tr>\n",
       "  </tbody>\n",
       "</table>\n",
       "</div>"
      ],
      "text/plain": [
       "categories  Burger  Chicken  Ethnic  Pizza  Sandwich  Seafood  Snack   All\n",
       "state                                                                     \n",
       "AK               3        0       4      1         6        0      1    16\n",
       "AL               2        1       3      0         0        0      0     6\n",
       "AR              47        7      18      6        18        2      3   102\n",
       "AZ             148       15      73     31        48        2     12   329\n",
       "CA             615       70     213     78       112        2     67  1196"
      ]
     },
     "execution_count": 8,
     "metadata": {},
     "output_type": "execute_result"
    }
   ],
   "source": [
    "# Cross-tabulation showing number of restaurants by type and state\n",
    "category_df = pd.crosstab(df[\"state\"], df[\"categories\"], margins = True).drop(columns = cols)\n",
    "category_df.head()"
   ]
  },
  {
   "cell_type": "code",
   "execution_count": 10,
   "metadata": {},
   "outputs": [
    {
     "data": {
      "text/html": [
       "<div>\n",
       "<style scoped>\n",
       "    .dataframe tbody tr th:only-of-type {\n",
       "        vertical-align: middle;\n",
       "    }\n",
       "\n",
       "    .dataframe tbody tr th {\n",
       "        vertical-align: top;\n",
       "    }\n",
       "\n",
       "    .dataframe thead th {\n",
       "        text-align: right;\n",
       "    }\n",
       "</style>\n",
       "<table border=\"1\" class=\"dataframe\">\n",
       "  <thead>\n",
       "    <tr style=\"text-align: right;\">\n",
       "      <th>categories</th>\n",
       "      <th>Burger</th>\n",
       "      <th>Chicken</th>\n",
       "      <th>Ethnic</th>\n",
       "      <th>Pizza</th>\n",
       "      <th>Sandwich</th>\n",
       "      <th>Seafood</th>\n",
       "      <th>Snack</th>\n",
       "      <th>All</th>\n",
       "    </tr>\n",
       "    <tr>\n",
       "      <th>state</th>\n",
       "      <th></th>\n",
       "      <th></th>\n",
       "      <th></th>\n",
       "      <th></th>\n",
       "      <th></th>\n",
       "      <th></th>\n",
       "      <th></th>\n",
       "      <th></th>\n",
       "    </tr>\n",
       "  </thead>\n",
       "  <tbody>\n",
       "    <tr>\n",
       "      <th>AK</th>\n",
       "      <td>0.000301</td>\n",
       "      <td>0.000000</td>\n",
       "      <td>0.000402</td>\n",
       "      <td>0.000100</td>\n",
       "      <td>0.000602</td>\n",
       "      <td>0.000000</td>\n",
       "      <td>0.000100</td>\n",
       "      <td>0.001606</td>\n",
       "    </tr>\n",
       "    <tr>\n",
       "      <th>AL</th>\n",
       "      <td>0.000201</td>\n",
       "      <td>0.000100</td>\n",
       "      <td>0.000301</td>\n",
       "      <td>0.000000</td>\n",
       "      <td>0.000000</td>\n",
       "      <td>0.000000</td>\n",
       "      <td>0.000000</td>\n",
       "      <td>0.000602</td>\n",
       "    </tr>\n",
       "    <tr>\n",
       "      <th>AR</th>\n",
       "      <td>0.004718</td>\n",
       "      <td>0.000703</td>\n",
       "      <td>0.001807</td>\n",
       "      <td>0.000602</td>\n",
       "      <td>0.001807</td>\n",
       "      <td>0.000201</td>\n",
       "      <td>0.000301</td>\n",
       "      <td>0.010240</td>\n",
       "    </tr>\n",
       "    <tr>\n",
       "      <th>AZ</th>\n",
       "      <td>0.014858</td>\n",
       "      <td>0.001506</td>\n",
       "      <td>0.007329</td>\n",
       "      <td>0.003112</td>\n",
       "      <td>0.004819</td>\n",
       "      <td>0.000201</td>\n",
       "      <td>0.001205</td>\n",
       "      <td>0.033029</td>\n",
       "    </tr>\n",
       "    <tr>\n",
       "      <th>CA</th>\n",
       "      <td>0.061741</td>\n",
       "      <td>0.007027</td>\n",
       "      <td>0.021383</td>\n",
       "      <td>0.007831</td>\n",
       "      <td>0.011244</td>\n",
       "      <td>0.000201</td>\n",
       "      <td>0.006726</td>\n",
       "      <td>0.120068</td>\n",
       "    </tr>\n",
       "  </tbody>\n",
       "</table>\n",
       "</div>"
      ],
      "text/plain": [
       "categories    Burger   Chicken    Ethnic     Pizza  Sandwich   Seafood  \\\n",
       "state                                                                    \n",
       "AK          0.000301  0.000000  0.000402  0.000100  0.000602  0.000000   \n",
       "AL          0.000201  0.000100  0.000301  0.000000  0.000000  0.000000   \n",
       "AR          0.004718  0.000703  0.001807  0.000602  0.001807  0.000201   \n",
       "AZ          0.014858  0.001506  0.007329  0.003112  0.004819  0.000201   \n",
       "CA          0.061741  0.007027  0.021383  0.007831  0.011244  0.000201   \n",
       "\n",
       "categories     Snack       All  \n",
       "state                           \n",
       "AK          0.000100  0.001606  \n",
       "AL          0.000000  0.000602  \n",
       "AR          0.000301  0.010240  \n",
       "AZ          0.001205  0.033029  \n",
       "CA          0.006726  0.120068  "
      ]
     },
     "execution_count": 10,
     "metadata": {},
     "output_type": "execute_result"
    }
   ],
   "source": [
    "# Turning the cross-tab into proportions; adding margins gives the marginal total\n",
    "proportions = pd.crosstab(df[\"state\"], df[\"categories\"], margins = True, normalize = True).drop(columns = cols)\n",
    "proportions.head()"
   ]
  },
  {
   "cell_type": "code",
   "execution_count": 13,
   "metadata": {},
   "outputs": [
    {
     "data": {
      "text/html": [
       "<div>\n",
       "<style scoped>\n",
       "    .dataframe tbody tr th:only-of-type {\n",
       "        vertical-align: middle;\n",
       "    }\n",
       "\n",
       "    .dataframe tbody tr th {\n",
       "        vertical-align: top;\n",
       "    }\n",
       "\n",
       "    .dataframe thead th {\n",
       "        text-align: right;\n",
       "    }\n",
       "</style>\n",
       "<table border=\"1\" class=\"dataframe\">\n",
       "  <thead>\n",
       "    <tr style=\"text-align: right;\">\n",
       "      <th>categories</th>\n",
       "      <th>Burger</th>\n",
       "      <th>Chicken</th>\n",
       "      <th>Ethnic</th>\n",
       "      <th>Pizza</th>\n",
       "      <th>Sandwich</th>\n",
       "      <th>Seafood</th>\n",
       "      <th>Snack</th>\n",
       "      <th>All</th>\n",
       "    </tr>\n",
       "    <tr>\n",
       "      <th>state</th>\n",
       "      <th></th>\n",
       "      <th></th>\n",
       "      <th></th>\n",
       "      <th></th>\n",
       "      <th></th>\n",
       "      <th></th>\n",
       "      <th></th>\n",
       "      <th></th>\n",
       "    </tr>\n",
       "  </thead>\n",
       "  <tbody>\n",
       "    <tr>\n",
       "      <th>All</th>\n",
       "      <td>0.473045</td>\n",
       "      <td>0.065455</td>\n",
       "      <td>0.146070</td>\n",
       "      <td>0.059030</td>\n",
       "      <td>0.185022</td>\n",
       "      <td>0.006927</td>\n",
       "      <td>0.044975</td>\n",
       "      <td>1.000000</td>\n",
       "    </tr>\n",
       "    <tr>\n",
       "      <th>CA</th>\n",
       "      <td>0.061741</td>\n",
       "      <td>0.007027</td>\n",
       "      <td>0.021383</td>\n",
       "      <td>0.007831</td>\n",
       "      <td>0.011244</td>\n",
       "      <td>0.000201</td>\n",
       "      <td>0.006726</td>\n",
       "      <td>0.120068</td>\n",
       "    </tr>\n",
       "    <tr>\n",
       "      <th>TX</th>\n",
       "      <td>0.040659</td>\n",
       "      <td>0.010541</td>\n",
       "      <td>0.010642</td>\n",
       "      <td>0.002911</td>\n",
       "      <td>0.010943</td>\n",
       "      <td>0.000703</td>\n",
       "      <td>0.004016</td>\n",
       "      <td>0.081116</td>\n",
       "    </tr>\n",
       "  </tbody>\n",
       "</table>\n",
       "</div>"
      ],
      "text/plain": [
       "categories    Burger   Chicken    Ethnic     Pizza  Sandwich   Seafood  \\\n",
       "state                                                                    \n",
       "All         0.473045  0.065455  0.146070  0.059030  0.185022  0.006927   \n",
       "CA          0.061741  0.007027  0.021383  0.007831  0.011244  0.000201   \n",
       "TX          0.040659  0.010541  0.010642  0.002911  0.010943  0.000703   \n",
       "\n",
       "categories     Snack       All  \n",
       "state                           \n",
       "All         0.044975  1.000000  \n",
       "CA          0.006726  0.120068  \n",
       "TX          0.004016  0.081116  "
      ]
     },
     "execution_count": 13,
     "metadata": {},
     "output_type": "execute_result"
    }
   ],
   "source": [
    "# In our dataset, California has the highest proportion of restaurants, at 0.12 (or 12% of all restaurants\n",
    "# in the dataset). Texas has 8% of all restaurants in the dataset.\n",
    "proportions.sort_values(by = \"All\", ascending = False).head(3)"
   ]
  },
  {
   "cell_type": "code",
   "execution_count": 27,
   "metadata": {},
   "outputs": [
    {
     "data": {
      "text/plain": [
       "<matplotlib.axes._subplots.AxesSubplot at 0x11ff997b8>"
      ]
     },
     "execution_count": 27,
     "metadata": {},
     "output_type": "execute_result"
    },
    {
     "data": {
      "image/png": "[encoded data removed]",
      "text/plain": [
       "<Figure size 432x288 with 1 Axes>"
      ]
     },
     "metadata": {
      "needs_background": "light"
     },
     "output_type": "display_data"
    }
   ],
   "source": [
    "# Bar chart of proportions by category (this matches pie chart)\n",
    "proportions.sort_values(by = \"All\", ascending = False).head(1).reset_index()\\\n",
    "        .drop(columns = \"All\").set_index(\"state\").plot(kind = \"bar\", rot = 0)"
   ]
  },
  {
   "cell_type": "code",
   "execution_count": 30,
   "metadata": {},
   "outputs": [],
   "source": [
    "# Extracting rows where name is Chick-Fil-A and pulling five largest states\n",
    "Chick = df[df[\"name\"] == \"Chick-Fil-A\"].groupby(\"state\").size().nlargest()"
   ]
  },
  {
   "cell_type": "code",
   "execution_count": 56,
   "metadata": {},
   "outputs": [
    {
     "data": {
      "text/plain": [
       "<matplotlib.axes._subplots.AxesSubplot at 0x1216fb940>"
      ]
     },
     "execution_count": 56,
     "metadata": {},
     "output_type": "execute_result"
    },
    {
     "data": {
      "image/png": "[encoded data removed]",
      "text/plain": [
       "<Figure size 432x288 with 1 Axes>"
      ]
     },
     "metadata": {
      "needs_background": "light"
     },
     "output_type": "display_data"
    }
   ],
   "source": [
    "# States with the most Chick-Fil-A restaurants\n",
    "Chick.reset_index().sort_values(by = 0, ascending = False).set_index(\"state\")\\\n",
    "        .rename(columns = {0: \"Chick-Fil-A\"})\\\n",
    "        .plot(kind = \"bar\", rot = 0, title = \"States with Most Chick-Fil-A Restaurants\",\n",
    "             legend = False)"
   ]
  },
  {
   "cell_type": "code",
   "execution_count": 39,
   "metadata": {},
   "outputs": [
    {
     "data": {
      "text/html": [
       "<div>\n",
       "<style scoped>\n",
       "    .dataframe tbody tr th:only-of-type {\n",
       "        vertical-align: middle;\n",
       "    }\n",
       "\n",
       "    .dataframe tbody tr th {\n",
       "        vertical-align: top;\n",
       "    }\n",
       "\n",
       "    .dataframe thead th {\n",
       "        text-align: right;\n",
       "    }\n",
       "</style>\n",
       "<table border=\"1\" class=\"dataframe\">\n",
       "  <thead>\n",
       "    <tr style=\"text-align: right;\">\n",
       "      <th>categories</th>\n",
       "      <th>Burger</th>\n",
       "      <th>Chicken</th>\n",
       "      <th>Ethnic</th>\n",
       "      <th>Pizza</th>\n",
       "      <th>Sandwich</th>\n",
       "      <th>Seafood</th>\n",
       "      <th>Snack</th>\n",
       "    </tr>\n",
       "    <tr>\n",
       "      <th>state</th>\n",
       "      <th></th>\n",
       "      <th></th>\n",
       "      <th></th>\n",
       "      <th></th>\n",
       "      <th></th>\n",
       "      <th></th>\n",
       "      <th></th>\n",
       "    </tr>\n",
       "  </thead>\n",
       "  <tbody>\n",
       "    <tr>\n",
       "      <th>AK</th>\n",
       "      <td>0.187500</td>\n",
       "      <td>0.000000</td>\n",
       "      <td>0.250000</td>\n",
       "      <td>0.062500</td>\n",
       "      <td>0.375000</td>\n",
       "      <td>0.000000</td>\n",
       "      <td>0.062500</td>\n",
       "    </tr>\n",
       "    <tr>\n",
       "      <th>AL</th>\n",
       "      <td>0.333333</td>\n",
       "      <td>0.166667</td>\n",
       "      <td>0.500000</td>\n",
       "      <td>0.000000</td>\n",
       "      <td>0.000000</td>\n",
       "      <td>0.000000</td>\n",
       "      <td>0.000000</td>\n",
       "    </tr>\n",
       "    <tr>\n",
       "      <th>AR</th>\n",
       "      <td>0.460784</td>\n",
       "      <td>0.068627</td>\n",
       "      <td>0.176471</td>\n",
       "      <td>0.058824</td>\n",
       "      <td>0.176471</td>\n",
       "      <td>0.019608</td>\n",
       "      <td>0.029412</td>\n",
       "    </tr>\n",
       "  </tbody>\n",
       "</table>\n",
       "</div>"
      ],
      "text/plain": [
       "categories    Burger   Chicken    Ethnic     Pizza  Sandwich   Seafood  \\\n",
       "state                                                                    \n",
       "AK          0.187500  0.000000  0.250000  0.062500  0.375000  0.000000   \n",
       "AL          0.333333  0.166667  0.500000  0.000000  0.000000  0.000000   \n",
       "AR          0.460784  0.068627  0.176471  0.058824  0.176471  0.019608   \n",
       "\n",
       "categories     Snack  \n",
       "state                 \n",
       "AK          0.062500  \n",
       "AL          0.000000  \n",
       "AR          0.029412  "
      ]
     },
     "execution_count": 39,
     "metadata": {},
     "output_type": "execute_result"
    }
   ],
   "source": [
    "# New dataframe that has proportions of restaurant type within state (as opposed to nationally)\n",
    "state_prop = pd.crosstab(df[\"state\"], df[\"categories\"], margins = True, \n",
    "                          normalize = \"index\").drop(columns = cols)\n",
    "state_prop.head(3)"
   ]
  },
  {
   "cell_type": "code",
   "execution_count": 41,
   "metadata": {},
   "outputs": [],
   "source": [
    "# The five states whose proportion of pizza is the largest\n",
    "Pizza = state_prop.sort_values(by = \"Pizza\", ascending = False).head()"
   ]
  },
  {
   "cell_type": "code",
   "execution_count": 42,
   "metadata": {},
   "outputs": [
    {
     "data": {
      "text/html": [
       "<div>\n",
       "<style scoped>\n",
       "    .dataframe tbody tr th:only-of-type {\n",
       "        vertical-align: middle;\n",
       "    }\n",
       "\n",
       "    .dataframe tbody tr th {\n",
       "        vertical-align: top;\n",
       "    }\n",
       "\n",
       "    .dataframe thead th {\n",
       "        text-align: right;\n",
       "    }\n",
       "</style>\n",
       "<table border=\"1\" class=\"dataframe\">\n",
       "  <thead>\n",
       "    <tr style=\"text-align: right;\">\n",
       "      <th>categories</th>\n",
       "      <th>Burger</th>\n",
       "      <th>Chicken</th>\n",
       "      <th>Ethnic</th>\n",
       "      <th>Pizza</th>\n",
       "      <th>Sandwich</th>\n",
       "      <th>Seafood</th>\n",
       "      <th>Snack</th>\n",
       "    </tr>\n",
       "    <tr>\n",
       "      <th>state</th>\n",
       "      <th></th>\n",
       "      <th></th>\n",
       "      <th></th>\n",
       "      <th></th>\n",
       "      <th></th>\n",
       "      <th></th>\n",
       "      <th></th>\n",
       "    </tr>\n",
       "  </thead>\n",
       "  <tbody>\n",
       "    <tr>\n",
       "      <th>RI</th>\n",
       "      <td>0.333333</td>\n",
       "      <td>0.000000</td>\n",
       "      <td>0.133333</td>\n",
       "      <td>0.266667</td>\n",
       "      <td>0.200000</td>\n",
       "      <td>0.000000</td>\n",
       "      <td>0.000000</td>\n",
       "    </tr>\n",
       "    <tr>\n",
       "      <th>NM</th>\n",
       "      <td>0.532468</td>\n",
       "      <td>0.038961</td>\n",
       "      <td>0.220779</td>\n",
       "      <td>0.142857</td>\n",
       "      <td>0.051948</td>\n",
       "      <td>0.012987</td>\n",
       "      <td>0.000000</td>\n",
       "    </tr>\n",
       "    <tr>\n",
       "      <th>WY</th>\n",
       "      <td>0.344828</td>\n",
       "      <td>0.000000</td>\n",
       "      <td>0.068966</td>\n",
       "      <td>0.137931</td>\n",
       "      <td>0.310345</td>\n",
       "      <td>0.000000</td>\n",
       "      <td>0.103448</td>\n",
       "    </tr>\n",
       "    <tr>\n",
       "      <th>MT</th>\n",
       "      <td>0.342105</td>\n",
       "      <td>0.000000</td>\n",
       "      <td>0.289474</td>\n",
       "      <td>0.131579</td>\n",
       "      <td>0.210526</td>\n",
       "      <td>0.000000</td>\n",
       "      <td>0.026316</td>\n",
       "    </tr>\n",
       "    <tr>\n",
       "      <th>ND</th>\n",
       "      <td>0.314286</td>\n",
       "      <td>0.028571</td>\n",
       "      <td>0.285714</td>\n",
       "      <td>0.114286</td>\n",
       "      <td>0.257143</td>\n",
       "      <td>0.000000</td>\n",
       "      <td>0.000000</td>\n",
       "    </tr>\n",
       "  </tbody>\n",
       "</table>\n",
       "</div>"
      ],
      "text/plain": [
       "categories    Burger   Chicken    Ethnic     Pizza  Sandwich   Seafood  \\\n",
       "state                                                                    \n",
       "RI          0.333333  0.000000  0.133333  0.266667  0.200000  0.000000   \n",
       "NM          0.532468  0.038961  0.220779  0.142857  0.051948  0.012987   \n",
       "WY          0.344828  0.000000  0.068966  0.137931  0.310345  0.000000   \n",
       "MT          0.342105  0.000000  0.289474  0.131579  0.210526  0.000000   \n",
       "ND          0.314286  0.028571  0.285714  0.114286  0.257143  0.000000   \n",
       "\n",
       "categories     Snack  \n",
       "state                 \n",
       "RI          0.000000  \n",
       "NM          0.000000  \n",
       "WY          0.103448  \n",
       "MT          0.026316  \n",
       "ND          0.000000  "
      ]
     },
     "execution_count": 42,
     "metadata": {},
     "output_type": "execute_result"
    }
   ],
   "source": [
    "Pizza"
   ]
  },
  {
   "cell_type": "code",
   "execution_count": 51,
   "metadata": {},
   "outputs": [
    {
     "data": {
      "text/plain": [
       "<matplotlib.axes._subplots.AxesSubplot at 0x121b7b710>"
      ]
     },
     "execution_count": 51,
     "metadata": {},
     "output_type": "execute_result"
    },
    {
     "data": {
      "image/png": "[encoded data removed]",
      "text/plain": [
       "<Figure size 432x288 with 1 Axes>"
      ]
     },
     "metadata": {
      "needs_background": "light"
     },
     "output_type": "display_data"
    }
   ],
   "source": [
    "Pizza[\"Pizza\"].plot(kind = \"bar\", rot = 0, title = \"Top States by Proportion of Fast Food that is Pizza\")"
   ]
  },
  {
   "cell_type": "code",
   "execution_count": 59,
   "metadata": {},
   "outputs": [
    {
     "data": {
      "text/html": [
       "<div>\n",
       "<style scoped>\n",
       "    .dataframe tbody tr th:only-of-type {\n",
       "        vertical-align: middle;\n",
       "    }\n",
       "\n",
       "    .dataframe tbody tr th {\n",
       "        vertical-align: top;\n",
       "    }\n",
       "\n",
       "    .dataframe thead th {\n",
       "        text-align: right;\n",
       "    }\n",
       "</style>\n",
       "<table border=\"1\" class=\"dataframe\">\n",
       "  <thead>\n",
       "    <tr style=\"text-align: right;\">\n",
       "      <th>categories</th>\n",
       "      <th>Burger</th>\n",
       "      <th>Chicken</th>\n",
       "      <th>Ethnic</th>\n",
       "      <th>Pizza</th>\n",
       "      <th>Sandwich</th>\n",
       "      <th>Seafood</th>\n",
       "      <th>Snack</th>\n",
       "    </tr>\n",
       "    <tr>\n",
       "      <th>state</th>\n",
       "      <th></th>\n",
       "      <th></th>\n",
       "      <th></th>\n",
       "      <th></th>\n",
       "      <th></th>\n",
       "      <th></th>\n",
       "      <th></th>\n",
       "    </tr>\n",
       "  </thead>\n",
       "  <tbody>\n",
       "    <tr>\n",
       "      <th>HI</th>\n",
       "      <td>0.843750</td>\n",
       "      <td>0.000000</td>\n",
       "      <td>0.062500</td>\n",
       "      <td>0.031250</td>\n",
       "      <td>0.000000</td>\n",
       "      <td>0.00</td>\n",
       "      <td>0.031250</td>\n",
       "    </tr>\n",
       "    <tr>\n",
       "      <th>VT</th>\n",
       "      <td>0.733333</td>\n",
       "      <td>0.000000</td>\n",
       "      <td>0.066667</td>\n",
       "      <td>0.000000</td>\n",
       "      <td>0.133333</td>\n",
       "      <td>0.00</td>\n",
       "      <td>0.000000</td>\n",
       "    </tr>\n",
       "    <tr>\n",
       "      <th>OR</th>\n",
       "      <td>0.610390</td>\n",
       "      <td>0.006494</td>\n",
       "      <td>0.116883</td>\n",
       "      <td>0.032468</td>\n",
       "      <td>0.175325</td>\n",
       "      <td>0.00</td>\n",
       "      <td>0.058442</td>\n",
       "    </tr>\n",
       "    <tr>\n",
       "      <th>ME</th>\n",
       "      <td>0.600000</td>\n",
       "      <td>0.000000</td>\n",
       "      <td>0.160000</td>\n",
       "      <td>0.080000</td>\n",
       "      <td>0.080000</td>\n",
       "      <td>0.04</td>\n",
       "      <td>0.040000</td>\n",
       "    </tr>\n",
       "    <tr>\n",
       "      <th>LA</th>\n",
       "      <td>0.549505</td>\n",
       "      <td>0.103960</td>\n",
       "      <td>0.133663</td>\n",
       "      <td>0.084158</td>\n",
       "      <td>0.103960</td>\n",
       "      <td>0.00</td>\n",
       "      <td>0.014851</td>\n",
       "    </tr>\n",
       "  </tbody>\n",
       "</table>\n",
       "</div>"
      ],
      "text/plain": [
       "categories    Burger   Chicken    Ethnic     Pizza  Sandwich  Seafood  \\\n",
       "state                                                                   \n",
       "HI          0.843750  0.000000  0.062500  0.031250  0.000000     0.00   \n",
       "VT          0.733333  0.000000  0.066667  0.000000  0.133333     0.00   \n",
       "OR          0.610390  0.006494  0.116883  0.032468  0.175325     0.00   \n",
       "ME          0.600000  0.000000  0.160000  0.080000  0.080000     0.04   \n",
       "LA          0.549505  0.103960  0.133663  0.084158  0.103960     0.00   \n",
       "\n",
       "categories     Snack  \n",
       "state                 \n",
       "HI          0.031250  \n",
       "VT          0.000000  \n",
       "OR          0.058442  \n",
       "ME          0.040000  \n",
       "LA          0.014851  "
      ]
     },
     "execution_count": 59,
     "metadata": {},
     "output_type": "execute_result"
    }
   ],
   "source": [
    "# Top 5 states in proportion of restaurants within state that are burger restaurants\n",
    "Burger = state_prop.sort_values(by = \"Burger\", ascending = False).head()\n",
    "Burger"
   ]
  },
  {
   "cell_type": "code",
   "execution_count": 60,
   "metadata": {},
   "outputs": [
    {
     "data": {
      "text/plain": [
       "<matplotlib.axes._subplots.AxesSubplot at 0x1219d2128>"
      ]
     },
     "execution_count": 60,
     "metadata": {},
     "output_type": "execute_result"
    },
    {
     "data": {
      "image/png": "[encoded data removed]",
      "text/plain": [
       "<Figure size 432x288 with 1 Axes>"
      ]
     },
     "metadata": {
      "needs_background": "light"
     },
     "output_type": "display_data"
    }
   ],
   "source": [
    "Burger[\"Burger\"].plot(kind = \"bar\", rot = 0, title = \"Top States by Proportion of Fast Food that is Burgers\")"
   ]
  },
  {
   "cell_type": "code",
   "execution_count": 61,
   "metadata": {},
   "outputs": [
    {
     "data": {
      "text/html": [
       "<div>\n",
       "<style scoped>\n",
       "    .dataframe tbody tr th:only-of-type {\n",
       "        vertical-align: middle;\n",
       "    }\n",
       "\n",
       "    .dataframe tbody tr th {\n",
       "        vertical-align: top;\n",
       "    }\n",
       "\n",
       "    .dataframe thead th {\n",
       "        text-align: right;\n",
       "    }\n",
       "</style>\n",
       "<table border=\"1\" class=\"dataframe\">\n",
       "  <thead>\n",
       "    <tr style=\"text-align: right;\">\n",
       "      <th>categories</th>\n",
       "      <th>Burger</th>\n",
       "      <th>Chicken</th>\n",
       "      <th>Ethnic</th>\n",
       "      <th>Pizza</th>\n",
       "      <th>Sandwich</th>\n",
       "      <th>Seafood</th>\n",
       "      <th>Snack</th>\n",
       "    </tr>\n",
       "    <tr>\n",
       "      <th>state</th>\n",
       "      <th></th>\n",
       "      <th></th>\n",
       "      <th></th>\n",
       "      <th></th>\n",
       "      <th></th>\n",
       "      <th></th>\n",
       "      <th></th>\n",
       "    </tr>\n",
       "  </thead>\n",
       "  <tbody>\n",
       "    <tr>\n",
       "      <th>AL</th>\n",
       "      <td>0.333333</td>\n",
       "      <td>0.166667</td>\n",
       "      <td>0.500000</td>\n",
       "      <td>0.000000</td>\n",
       "      <td>0.000000</td>\n",
       "      <td>0.000000</td>\n",
       "      <td>0.000000</td>\n",
       "    </tr>\n",
       "    <tr>\n",
       "      <th>MO</th>\n",
       "      <td>0.398773</td>\n",
       "      <td>0.006135</td>\n",
       "      <td>0.312883</td>\n",
       "      <td>0.030675</td>\n",
       "      <td>0.208589</td>\n",
       "      <td>0.006135</td>\n",
       "      <td>0.012270</td>\n",
       "    </tr>\n",
       "    <tr>\n",
       "      <th>NV</th>\n",
       "      <td>0.471074</td>\n",
       "      <td>0.024793</td>\n",
       "      <td>0.297521</td>\n",
       "      <td>0.049587</td>\n",
       "      <td>0.132231</td>\n",
       "      <td>0.008264</td>\n",
       "      <td>0.016529</td>\n",
       "    </tr>\n",
       "    <tr>\n",
       "      <th>MT</th>\n",
       "      <td>0.342105</td>\n",
       "      <td>0.000000</td>\n",
       "      <td>0.289474</td>\n",
       "      <td>0.131579</td>\n",
       "      <td>0.210526</td>\n",
       "      <td>0.000000</td>\n",
       "      <td>0.026316</td>\n",
       "    </tr>\n",
       "    <tr>\n",
       "      <th>ND</th>\n",
       "      <td>0.314286</td>\n",
       "      <td>0.028571</td>\n",
       "      <td>0.285714</td>\n",
       "      <td>0.114286</td>\n",
       "      <td>0.257143</td>\n",
       "      <td>0.000000</td>\n",
       "      <td>0.000000</td>\n",
       "    </tr>\n",
       "  </tbody>\n",
       "</table>\n",
       "</div>"
      ],
      "text/plain": [
       "categories    Burger   Chicken    Ethnic     Pizza  Sandwich   Seafood  \\\n",
       "state                                                                    \n",
       "AL          0.333333  0.166667  0.500000  0.000000  0.000000  0.000000   \n",
       "MO          0.398773  0.006135  0.312883  0.030675  0.208589  0.006135   \n",
       "NV          0.471074  0.024793  0.297521  0.049587  0.132231  0.008264   \n",
       "MT          0.342105  0.000000  0.289474  0.131579  0.210526  0.000000   \n",
       "ND          0.314286  0.028571  0.285714  0.114286  0.257143  0.000000   \n",
       "\n",
       "categories     Snack  \n",
       "state                 \n",
       "AL          0.000000  \n",
       "MO          0.012270  \n",
       "NV          0.016529  \n",
       "MT          0.026316  \n",
       "ND          0.000000  "
      ]
     },
     "execution_count": 61,
     "metadata": {},
     "output_type": "execute_result"
    }
   ],
   "source": [
    "# Top five states by proportion of \"ethic\" restaurants\n",
    "Ethnic = state_prop.sort_values(by = \"Ethnic\", ascending = False).head()\n",
    "Ethnic"
   ]
  },
  {
   "cell_type": "code",
   "execution_count": 69,
   "metadata": {},
   "outputs": [
    {
     "data": {
      "text/plain": [
       "<matplotlib.axes._subplots.AxesSubplot at 0x121cd7a20>"
      ]
     },
     "execution_count": 69,
     "metadata": {},
     "output_type": "execute_result"
    },
    {
     "data": {
      "image/png": "[encoded data removed]",
      "text/plain": [
       "<Figure size 432x288 with 1 Axes>"
      ]
     },
     "metadata": {
      "needs_background": "light"
     },
     "output_type": "display_data"
    }
   ],
   "source": [
    "Ethnic[\"Ethnic\"].plot(kind = \"bar\", rot = 0, title = \"Top States by Proportion of Ethnic Fast Food Restaurants\")"
   ]
  },
  {
   "cell_type": "code",
   "execution_count": 63,
   "metadata": {},
   "outputs": [
    {
     "data": {
      "text/html": [
       "<div>\n",
       "<style scoped>\n",
       "    .dataframe tbody tr th:only-of-type {\n",
       "        vertical-align: middle;\n",
       "    }\n",
       "\n",
       "    .dataframe tbody tr th {\n",
       "        vertical-align: top;\n",
       "    }\n",
       "\n",
       "    .dataframe thead th {\n",
       "        text-align: right;\n",
       "    }\n",
       "</style>\n",
       "<table border=\"1\" class=\"dataframe\">\n",
       "  <thead>\n",
       "    <tr style=\"text-align: right;\">\n",
       "      <th>categories</th>\n",
       "      <th>Burger</th>\n",
       "      <th>Chicken</th>\n",
       "      <th>Ethnic</th>\n",
       "      <th>Pizza</th>\n",
       "      <th>Sandwich</th>\n",
       "      <th>Seafood</th>\n",
       "      <th>Snack</th>\n",
       "    </tr>\n",
       "    <tr>\n",
       "      <th>state</th>\n",
       "      <th></th>\n",
       "      <th></th>\n",
       "      <th></th>\n",
       "      <th></th>\n",
       "      <th></th>\n",
       "      <th></th>\n",
       "      <th></th>\n",
       "    </tr>\n",
       "  </thead>\n",
       "  <tbody>\n",
       "    <tr>\n",
       "      <th>AL</th>\n",
       "      <td>0.333333</td>\n",
       "      <td>0.166667</td>\n",
       "      <td>0.500000</td>\n",
       "      <td>0.000000</td>\n",
       "      <td>0.000000</td>\n",
       "      <td>0.000000</td>\n",
       "      <td>0.000000</td>\n",
       "    </tr>\n",
       "    <tr>\n",
       "      <th>NC</th>\n",
       "      <td>0.450847</td>\n",
       "      <td>0.138983</td>\n",
       "      <td>0.074576</td>\n",
       "      <td>0.084746</td>\n",
       "      <td>0.216949</td>\n",
       "      <td>0.003390</td>\n",
       "      <td>0.020339</td>\n",
       "    </tr>\n",
       "    <tr>\n",
       "      <th>TX</th>\n",
       "      <td>0.501238</td>\n",
       "      <td>0.129950</td>\n",
       "      <td>0.131188</td>\n",
       "      <td>0.035891</td>\n",
       "      <td>0.134901</td>\n",
       "      <td>0.008663</td>\n",
       "      <td>0.049505</td>\n",
       "    </tr>\n",
       "    <tr>\n",
       "      <th>VA</th>\n",
       "      <td>0.383399</td>\n",
       "      <td>0.122530</td>\n",
       "      <td>0.122530</td>\n",
       "      <td>0.051383</td>\n",
       "      <td>0.292490</td>\n",
       "      <td>0.000000</td>\n",
       "      <td>0.023715</td>\n",
       "    </tr>\n",
       "    <tr>\n",
       "      <th>SC</th>\n",
       "      <td>0.481283</td>\n",
       "      <td>0.117647</td>\n",
       "      <td>0.074866</td>\n",
       "      <td>0.042781</td>\n",
       "      <td>0.224599</td>\n",
       "      <td>0.000000</td>\n",
       "      <td>0.053476</td>\n",
       "    </tr>\n",
       "  </tbody>\n",
       "</table>\n",
       "</div>"
      ],
      "text/plain": [
       "categories    Burger   Chicken    Ethnic     Pizza  Sandwich   Seafood  \\\n",
       "state                                                                    \n",
       "AL          0.333333  0.166667  0.500000  0.000000  0.000000  0.000000   \n",
       "NC          0.450847  0.138983  0.074576  0.084746  0.216949  0.003390   \n",
       "TX          0.501238  0.129950  0.131188  0.035891  0.134901  0.008663   \n",
       "VA          0.383399  0.122530  0.122530  0.051383  0.292490  0.000000   \n",
       "SC          0.481283  0.117647  0.074866  0.042781  0.224599  0.000000   \n",
       "\n",
       "categories     Snack  \n",
       "state                 \n",
       "AL          0.000000  \n",
       "NC          0.020339  \n",
       "TX          0.049505  \n",
       "VA          0.023715  \n",
       "SC          0.053476  "
      ]
     },
     "execution_count": 63,
     "metadata": {},
     "output_type": "execute_result"
    }
   ],
   "source": [
    "# Top 5 states in proportion of restaurants within state that are chicken restaurants\n",
    "Chicken = state_prop.sort_values(by = \"Chicken\", ascending = False).head()\n",
    "Chicken "
   ]
  },
  {
   "cell_type": "code",
   "execution_count": 68,
   "metadata": {},
   "outputs": [
    {
     "data": {
      "text/plain": [
       "<matplotlib.axes._subplots.AxesSubplot at 0x121c20da0>"
      ]
     },
     "execution_count": 68,
     "metadata": {},
     "output_type": "execute_result"
    },
    {
     "data": {
      "image/png": "[encoded data removed]",
      "text/plain": [
       "<Figure size 432x288 with 1 Axes>"
      ]
     },
     "metadata": {
      "needs_background": "light"
     },
     "output_type": "display_data"
    }
   ],
   "source": [
    "Chicken[\"Chicken\"].plot(kind = \"bar\", rot = 0, title = \"Top States by Proportion of Fast Food that is Chicken\")"
   ]
  },
  {
   "cell_type": "code",
   "execution_count": 81,
   "metadata": {},
   "outputs": [
    {
     "data": {
      "text/plain": [
       "<matplotlib.axes._subplots.AxesSubplot at 0x1220b76d8>"
      ]
     },
     "execution_count": 81,
     "metadata": {},
     "output_type": "execute_result"
    },
    {
     "data": {
      "image/png": "[encoded data removed]",
      "text/plain": [
       "<Figure size 432x288 with 1 Axes>"
      ]
     },
     "metadata": {
      "needs_background": "light"
     },
     "output_type": "display_data"
    }
   ],
   "source": [
    "# Ten largest restaurants in our dataset by number of locations\n",
    "df.groupby(\"name\")[\"categories\"].size().nlargest(10).plot(kind = \"bar\", \n",
    "                                                          rot = 45,\n",
    "                                                         title = \"Top 10 Restaurants by Location\")"
   ]
  },
  {
   "cell_type": "code",
   "execution_count": 70,
   "metadata": {},
   "outputs": [
    {
     "data": {
      "text/html": [
       "<div>\n",
       "<style scoped>\n",
       "    .dataframe tbody tr th:only-of-type {\n",
       "        vertical-align: middle;\n",
       "    }\n",
       "\n",
       "    .dataframe tbody tr th {\n",
       "        vertical-align: top;\n",
       "    }\n",
       "\n",
       "    .dataframe thead th {\n",
       "        text-align: right;\n",
       "    }\n",
       "</style>\n",
       "<table border=\"1\" class=\"dataframe\">\n",
       "  <thead>\n",
       "    <tr style=\"text-align: right;\">\n",
       "      <th></th>\n",
       "      <th>name</th>\n",
       "      <th>categories</th>\n",
       "      <th>city</th>\n",
       "      <th>state</th>\n",
       "      <th>postalCode</th>\n",
       "      <th>latitude</th>\n",
       "      <th>longitude</th>\n",
       "    </tr>\n",
       "  </thead>\n",
       "  <tbody>\n",
       "    <tr>\n",
       "      <th>13</th>\n",
       "      <td>Ani's Chicken</td>\n",
       "      <td>Chicken</td>\n",
       "      <td>Montebello</td>\n",
       "      <td>CA</td>\n",
       "      <td>90640</td>\n",
       "      <td>34.018116</td>\n",
       "      <td>-118.105300</td>\n",
       "    </tr>\n",
       "    <tr>\n",
       "      <th>806</th>\n",
       "      <td>Bojangles' Famous Chicken 'n Biscuits</td>\n",
       "      <td>Chicken</td>\n",
       "      <td>Hiram</td>\n",
       "      <td>GA</td>\n",
       "      <td>30141</td>\n",
       "      <td>33.890714</td>\n",
       "      <td>-84.750513</td>\n",
       "    </tr>\n",
       "    <tr>\n",
       "      <th>807</th>\n",
       "      <td>Bojangles' Famous Chicken 'n Biscuits</td>\n",
       "      <td>Chicken</td>\n",
       "      <td>Fayetteville</td>\n",
       "      <td>NC</td>\n",
       "      <td>28304</td>\n",
       "      <td>35.026886</td>\n",
       "      <td>-79.052482</td>\n",
       "    </tr>\n",
       "    <tr>\n",
       "      <th>808</th>\n",
       "      <td>Bojangles' Famous Chicken 'n Biscuits</td>\n",
       "      <td>Chicken</td>\n",
       "      <td>Irmo</td>\n",
       "      <td>SC</td>\n",
       "      <td>29063</td>\n",
       "      <td>34.095532</td>\n",
       "      <td>-81.159696</td>\n",
       "    </tr>\n",
       "    <tr>\n",
       "      <th>809</th>\n",
       "      <td>Bojangles' Famous Chicken 'n Biscuits</td>\n",
       "      <td>Chicken</td>\n",
       "      <td>Shelby</td>\n",
       "      <td>NC</td>\n",
       "      <td>28152</td>\n",
       "      <td>35.282600</td>\n",
       "      <td>-81.556032</td>\n",
       "    </tr>\n",
       "  </tbody>\n",
       "</table>\n",
       "</div>"
      ],
      "text/plain": [
       "                                      name categories          city state  \\\n",
       "13                           Ani's Chicken    Chicken    Montebello    CA   \n",
       "806  Bojangles' Famous Chicken 'n Biscuits    Chicken         Hiram    GA   \n",
       "807  Bojangles' Famous Chicken 'n Biscuits    Chicken  Fayetteville    NC   \n",
       "808  Bojangles' Famous Chicken 'n Biscuits    Chicken          Irmo    SC   \n",
       "809  Bojangles' Famous Chicken 'n Biscuits    Chicken        Shelby    NC   \n",
       "\n",
       "    postalCode   latitude   longitude  \n",
       "13       90640  34.018116 -118.105300  \n",
       "806      30141  33.890714  -84.750513  \n",
       "807      28304  35.026886  -79.052482  \n",
       "808      29063  34.095532  -81.159696  \n",
       "809      28152  35.282600  -81.556032  "
      ]
     },
     "execution_count": 70,
     "metadata": {},
     "output_type": "execute_result"
    }
   ],
   "source": [
    "# Restaurants that fall into the \"chicken\" category\n",
    "cat_chicken = df[df[\"categories\"] == \"Chicken\"]\n",
    "cat_chicken.head()"
   ]
  },
  {
   "cell_type": "code",
   "execution_count": 72,
   "metadata": {},
   "outputs": [
    {
     "data": {
      "text/plain": [
       "name\n",
       "Chick-Fil-A                              228\n",
       "KFC                                      176\n",
       "Boston Market                             42\n",
       "Bojangles' Famous Chicken 'n Biscuits     32\n",
       "Church's Chicken                          27\n",
       "El Pollo Loco                             23\n",
       "Golden Chick                              21\n",
       "Popeye's Louisiana Kitchen                20\n",
       "Chicken Express                           16\n",
       "Raising Cane's                            12\n",
       "dtype: int64"
      ]
     },
     "execution_count": 72,
     "metadata": {},
     "output_type": "execute_result"
    }
   ],
   "source": [
    "cat_chicken.groupby(\"name\").size().nlargest(10)"
   ]
  },
  {
   "cell_type": "code",
   "execution_count": 76,
   "metadata": {},
   "outputs": [
    {
     "data": {
      "text/plain": [
       "652"
      ]
     },
     "execution_count": 76,
     "metadata": {},
     "output_type": "execute_result"
    }
   ],
   "source": [
    "cat_chicken.groupby(\"name\")[\"name\"].count().sum()"
   ]
  },
  {
   "cell_type": "code",
   "execution_count": 77,
   "metadata": {},
   "outputs": [
    {
     "data": {
      "text/plain": [
       "0.3496932515337423"
      ]
     },
     "execution_count": 77,
     "metadata": {},
     "output_type": "execute_result"
    }
   ],
   "source": [
    "# Proportion of chicken restaurants that are Chick-Fil-A\n",
    "228/652"
   ]
  },
  {
   "cell_type": "code",
   "execution_count": null,
   "metadata": {},
   "outputs": [],
   "source": []
  }
 ],
 "metadata": {
  "kernelspec": {
   "display_name": "Python 3",
   "language": "python",
   "name": "python3"
  },
  "language_info": {
   "codemirror_mode": {
    "name": "ipython",
    "version": 3
   },
   "file_extension": ".py",
   "mimetype": "text/x-python",
   "name": "python",
   "nbconvert_exporter": "python",
   "pygments_lexer": "ipython3",
   "version": "3.6.8"
  }
 },
 "nbformat": 4,
 "nbformat_minor": 2
}
